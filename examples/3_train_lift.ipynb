{
 "cells": [
  {
   "cell_type": "code",
   "execution_count": 78,
   "metadata": {},
   "outputs": [],
   "source": [
    "from pathlib import Path\n",
    "import torch\n",
    "from lerobot.common.datasets.lerobot_dataset import LeRobotDataset\n",
    "from lerobot.common.policies.diffusion.configuration_diffusion import DiffusionConfig\n",
    "from lerobot.common.policies.diffusion.modeling_diffusion import DiffusionPolicy\n",
    "import numpy as np\n",
    "import matplotlib.pyplot as plt"
   ]
  },
  {
   "cell_type": "code",
   "execution_count": 2,
   "metadata": {},
   "outputs": [],
   "source": [
    "output_directory = Path(\"outputs/train/example_lift_diffusion\")\n",
    "output_directory.mkdir(parents=True, exist_ok=True)\n",
    "\n",
    "training_steps = 5000\n",
    "device = torch.device(\"cuda\")\n",
    "log_freq = 250"
   ]
  },
  {
   "cell_type": "code",
   "execution_count": null,
   "metadata": {},
   "outputs": [],
   "source": [
    " "
   ]
  },
  {
   "cell_type": "code",
   "execution_count": 3,
   "metadata": {},
   "outputs": [],
   "source": [
    "# Set up the dataset.\n",
    "delta_timestamps = {\n",
    "    # Load the previous image and state at -0.1 seconds before current frame,\n",
    "    # then load current image and state corresponding to 0.0 second.\n",
    "    \"observation.images.agentview_image\": [-0.1, 0.0],\n",
    "    \"observation.images.robot0_eye_in_hand_image\": [-0.1, 0.0],\n",
    "    \"observation.robot0_eef_pos\": [-0.1, 0.0],\n",
    "    \"observation.robot0_eef_quat\": [-0.1, 0.0],\n",
    "    \"observation.robot0_gripper_qpos\": [-0.1, 0.0],\n",
    "    \"observation.state\": [-0.1, 0.0],\n",
    "    # Load the previous action (-0.1), the next action to be executed (0.0),\n",
    "    # and 14 future actions with a 0.1 seconds spacing. All these actions will be\n",
    "    # used to supervise the policy.\n",
    "    \"action\": [-0.1, 0.0, 0.1, 0.2, 0.3, 0.4, 0.5, 0.6, 0.7, 0.8, 0.9, 1.0, 1.1, 1.2, 1.3, 1.4],\n",
    "}\n",
    "# dataset = LeRobotDataset(\"lerobot/pusht\", delta_timestamps=delta_timestamps)"
   ]
  },
  {
   "cell_type": "code",
   "execution_count": 4,
   "metadata": {},
   "outputs": [],
   "source": [
    "local_dir = Path(\"/home/ns1254/lerobot/data\") \n",
    "dataset = LeRobotDataset(repo_id=\"lift\", root=local_dir, delta_timestamps=delta_timestamps)"
   ]
  },
  {
   "cell_type": "code",
   "execution_count": 5,
   "metadata": {},
   "outputs": [],
   "source": [
    "dataloader = torch.utils.data.DataLoader(\n",
    "    dataset,\n",
    "    num_workers=4,\n",
    "    batch_size=64,\n",
    "    shuffle=True,\n",
    "    pin_memory=device != torch.device(\"cpu\"),\n",
    "    drop_last=True,\n",
    ")"
   ]
  },
  {
   "cell_type": "code",
   "execution_count": 6,
   "metadata": {},
   "outputs": [
    {
     "name": "stdout",
     "output_type": "stream",
     "text": [
      "dones: torch.Size([64])\n",
      "rewards: torch.Size([64])\n",
      "observation.object: torch.Size([64, 10])\n",
      "observation.robot0_eef_pos: torch.Size([64, 2, 3])\n",
      "observation.robot0_eef_quat: torch.Size([64, 2, 4])\n",
      "observation.robot0_eef_vel_ang: torch.Size([64, 3])\n",
      "observation.robot0_eef_vel_lin: torch.Size([64, 3])\n",
      "observation.robot0_gripper_qpos: torch.Size([64, 2, 2])\n",
      "observation.robot0_gripper_qvel: torch.Size([64, 2])\n",
      "observation.robot0_joint_pos: torch.Size([64, 7])\n",
      "observation.robot0_joint_pos_cos: torch.Size([64, 7])\n",
      "observation.robot0_joint_pos_sin: torch.Size([64, 7])\n",
      "observation.robot0_joint_vel: torch.Size([64, 7])\n",
      "observation.state: torch.Size([64, 2, 32])\n",
      "action: torch.Size([64, 16, 7])\n",
      "next.done: torch.Size([64])\n",
      "observation.images.agentview_image: torch.Size([64, 2, 3, 84, 84])\n",
      "observation.images.robot0_eye_in_hand_image: torch.Size([64, 2, 3, 84, 84])\n",
      "episode_index: torch.Size([64])\n",
      "frame_index: torch.Size([64])\n",
      "timestamp: torch.Size([64])\n",
      "index: torch.Size([64])\n",
      "observation.images.agentview_image_is_pad: torch.Size([64, 2])\n",
      "observation.images.robot0_eye_in_hand_image_is_pad: torch.Size([64, 2])\n",
      "observation.robot0_eef_pos_is_pad: torch.Size([64, 2])\n",
      "observation.robot0_eef_quat_is_pad: torch.Size([64, 2])\n",
      "observation.robot0_gripper_qpos_is_pad: torch.Size([64, 2])\n",
      "observation.state_is_pad: torch.Size([64, 2])\n",
      "action_is_pad: torch.Size([64, 16])\n"
     ]
    }
   ],
   "source": [
    "batch = next(iter(dataloader))\n",
    "for key, value in batch.items():\n",
    "    print(f\"{key}: {value.shape}\")"
   ]
  },
  {
   "cell_type": "code",
   "execution_count": null,
   "metadata": {},
   "outputs": [],
   "source": []
  },
  {
   "cell_type": "code",
   "execution_count": 7,
   "metadata": {},
   "outputs": [],
   "source": [
    "# Set up the the policy.\n",
    "# Policies are initialized with a configuration class, in this case `DiffusionConfig`.\n",
    "# For this example, no arguments need to be passed because the defaults are set up for PushT.\n",
    "# If you're doing something different, you will likely need to change at least some of the defaults.\n",
    "cfg = DiffusionConfig()"
   ]
  },
  {
   "cell_type": "code",
   "execution_count": 8,
   "metadata": {},
   "outputs": [
    {
     "data": {
      "text/plain": [
       "DiffusionConfig(n_obs_steps=2, horizon=16, n_action_steps=8, input_shapes={'observation.image': [3, 96, 96], 'observation.state': [2]}, output_shapes={'action': [2]}, input_normalization_modes={'observation.image': 'mean_std', 'observation.state': 'min_max'}, output_normalization_modes={'action': 'min_max'}, vision_backbone='resnet18', crop_shape=(84, 84), crop_is_random=True, pretrained_backbone_weights=None, use_group_norm=True, spatial_softmax_num_keypoints=32, use_separate_rgb_encoder_per_camera=False, down_dims=(512, 1024, 2048), kernel_size=5, n_groups=8, diffusion_step_embed_dim=128, use_film_scale_modulation=True, noise_scheduler_type='DDPM', num_train_timesteps=100, beta_schedule='squaredcos_cap_v2', beta_start=0.0001, beta_end=0.02, prediction_type='epsilon', clip_sample=True, clip_sample_range=1.0, num_inference_steps=None, do_mask_loss_for_padding=False)"
      ]
     },
     "execution_count": 8,
     "metadata": {},
     "output_type": "execute_result"
    }
   ],
   "source": [
    "cfg"
   ]
  },
  {
   "cell_type": "code",
   "execution_count": 9,
   "metadata": {},
   "outputs": [
    {
     "data": {
      "text/plain": [
       "({'observation.image': [3, 96, 96], 'observation.state': [2]}, {'action': [2]})"
      ]
     },
     "execution_count": 9,
     "metadata": {},
     "output_type": "execute_result"
    }
   ],
   "source": [
    "cfg.input_shapes, cfg.output_shapes"
   ]
  },
  {
   "cell_type": "code",
   "execution_count": 10,
   "metadata": {},
   "outputs": [],
   "source": [
    "input_shapes = {'observation.images.agentview_image': (3, 64, 64), 'observation.images.robot0_eye_in_hand_image': (3, 64, 64), \n",
    "                'observation.robot0_eef_pos': (3,), 'observation.robot0_eef_quat': (4,), 'observation.robot0_gripper_qpos': (2,),\n",
    "                'observation.state': (32,)}\n",
    "\n",
    "output_shapes = {'action': (7,)}"
   ]
  },
  {
   "cell_type": "code",
   "execution_count": 11,
   "metadata": {},
   "outputs": [
    {
     "data": {
      "text/plain": [
       "{'observation.images.agentview_image': (3, 64, 64),\n",
       " 'observation.images.robot0_eye_in_hand_image': (3, 64, 64),\n",
       " 'observation.robot0_eef_pos': (3,),\n",
       " 'observation.robot0_eef_quat': (4,),\n",
       " 'observation.robot0_gripper_qpos': (2,),\n",
       " 'observation.state': (32,)}"
      ]
     },
     "execution_count": 11,
     "metadata": {},
     "output_type": "execute_result"
    }
   ],
   "source": [
    "input_shapes"
   ]
  },
  {
   "cell_type": "code",
   "execution_count": 12,
   "metadata": {},
   "outputs": [],
   "source": [
    "cfg.input_shapes = input_shapes\n",
    "cfg.output_shapes = output_shapes"
   ]
  },
  {
   "cell_type": "code",
   "execution_count": 13,
   "metadata": {},
   "outputs": [
    {
     "name": "stdout",
     "output_type": "stream",
     "text": [
      "DiffusionConfig(n_obs_steps=2, horizon=16, n_action_steps=8, input_shapes={'observation.images.agentview_image': (3, 64, 64), 'observation.images.robot0_eye_in_hand_image': (3, 64, 64), 'observation.robot0_eef_pos': (3,), 'observation.robot0_eef_quat': (4,), 'observation.robot0_gripper_qpos': (2,), 'observation.state': (32,)}, output_shapes={'action': (7,)}, input_normalization_modes={'observation.image': 'mean_std', 'observation.state': 'min_max'}, output_normalization_modes={'action': 'min_max'}, vision_backbone='resnet18', crop_shape=(84, 84), crop_is_random=True, pretrained_backbone_weights=None, use_group_norm=True, spatial_softmax_num_keypoints=32, use_separate_rgb_encoder_per_camera=False, down_dims=(512, 1024, 2048), kernel_size=5, n_groups=8, diffusion_step_embed_dim=128, use_film_scale_modulation=True, noise_scheduler_type='DDPM', num_train_timesteps=100, beta_schedule='squaredcos_cap_v2', beta_start=0.0001, beta_end=0.02, prediction_type='epsilon', clip_sample=True, clip_sample_range=1.0, num_inference_steps=None, do_mask_loss_for_padding=False)\n"
     ]
    }
   ],
   "source": [
    "print(cfg)"
   ]
  },
  {
   "cell_type": "code",
   "execution_count": 14,
   "metadata": {},
   "outputs": [],
   "source": [
    "input_normalization_mode={\n",
    "    \"observation.images.agentview_image\": \"mean_std\",\n",
    "    \"observation.images.robot0_eye_in_hand_image\": \"mean_std\",\n",
    "    \"observation.robot0_eef_pos\": \"mean_std\",\n",
    "    \"observation.robot0_eef_quat\": \"mean_std\",\n",
    "    \"observation.robot0_gripper_qpos\": \"mean_std\",\n",
    "    \"observation.state\": \"mean_std\",\n",
    "}\n",
    "cfg.input_normalization_modes = input_normalization_mode"
   ]
  },
  {
   "cell_type": "code",
   "execution_count": 15,
   "metadata": {},
   "outputs": [
    {
     "data": {
      "text/plain": [
       "DiffusionConfig(n_obs_steps=2, horizon=16, n_action_steps=8, input_shapes={'observation.images.agentview_image': (3, 64, 64), 'observation.images.robot0_eye_in_hand_image': (3, 64, 64), 'observation.robot0_eef_pos': (3,), 'observation.robot0_eef_quat': (4,), 'observation.robot0_gripper_qpos': (2,), 'observation.state': (32,)}, output_shapes={'action': (7,)}, input_normalization_modes={'observation.images.agentview_image': 'mean_std', 'observation.images.robot0_eye_in_hand_image': 'mean_std', 'observation.robot0_eef_pos': 'mean_std', 'observation.robot0_eef_quat': 'mean_std', 'observation.robot0_gripper_qpos': 'mean_std', 'observation.state': 'mean_std'}, output_normalization_modes={'action': 'min_max'}, vision_backbone='resnet18', crop_shape=(84, 84), crop_is_random=True, pretrained_backbone_weights=None, use_group_norm=True, spatial_softmax_num_keypoints=32, use_separate_rgb_encoder_per_camera=False, down_dims=(512, 1024, 2048), kernel_size=5, n_groups=8, diffusion_step_embed_dim=128, use_film_scale_modulation=True, noise_scheduler_type='DDPM', num_train_timesteps=100, beta_schedule='squaredcos_cap_v2', beta_start=0.0001, beta_end=0.02, prediction_type='epsilon', clip_sample=True, clip_sample_range=1.0, num_inference_steps=None, do_mask_loss_for_padding=False)"
      ]
     },
     "execution_count": 15,
     "metadata": {},
     "output_type": "execute_result"
    }
   ],
   "source": [
    "cfg"
   ]
  },
  {
   "cell_type": "code",
   "execution_count": 16,
   "metadata": {},
   "outputs": [
    {
     "data": {
      "text/plain": [
       "({'observation.images.agentview_image': (3, 64, 64),\n",
       "  'observation.images.robot0_eye_in_hand_image': (3, 64, 64),\n",
       "  'observation.robot0_eef_pos': (3,),\n",
       "  'observation.robot0_eef_quat': (4,),\n",
       "  'observation.robot0_gripper_qpos': (2,),\n",
       "  'observation.state': (32,)},\n",
       " {'observation.images.agentview_image': 'mean_std',\n",
       "  'observation.images.robot0_eye_in_hand_image': 'mean_std',\n",
       "  'observation.robot0_eef_pos': 'mean_std',\n",
       "  'observation.robot0_eef_quat': 'mean_std',\n",
       "  'observation.robot0_gripper_qpos': 'mean_std',\n",
       "  'observation.state': 'mean_std'})"
      ]
     },
     "execution_count": 16,
     "metadata": {},
     "output_type": "execute_result"
    }
   ],
   "source": [
    "cfg.input_shapes, cfg.input_normalization_modes"
   ]
  },
  {
   "cell_type": "code",
   "execution_count": 18,
   "metadata": {},
   "outputs": [],
   "source": [
    "# dataset.stats "
   ]
  },
  {
   "cell_type": "code",
   "execution_count": 17,
   "metadata": {},
   "outputs": [],
   "source": [
    "policy = DiffusionPolicy(cfg, dataset_stats=dataset.stats)\n",
    "policy.train()\n",
    "policy.to(device) \n",
    "pass "
   ]
  },
  {
   "cell_type": "code",
   "execution_count": 18,
   "metadata": {},
   "outputs": [],
   "source": [
    "optimizer = torch.optim.Adam(policy.parameters(), lr=1e-4)"
   ]
  },
  {
   "cell_type": "code",
   "execution_count": 23,
   "metadata": {},
   "outputs": [
    {
     "data": {
      "text/plain": [
       "'outputs/train/example_lift_diffusion'"
      ]
     },
     "execution_count": 23,
     "metadata": {},
     "output_type": "execute_result"
    }
   ],
   "source": [
    "ckpt_path=str(output_directory)\n",
    "ckpt_path"
   ]
  },
  {
   "cell_type": "code",
   "execution_count": 28,
   "metadata": {},
   "outputs": [],
   "source": [
    "log_freq=100"
   ]
  },
  {
   "cell_type": "code",
   "execution_count": null,
   "metadata": {},
   "outputs": [
    {
     "name": "stdout",
     "output_type": "stream",
     "text": [
      "step: 0/5000 loss: 0.970\n",
      "step: 100/5000 loss: 0.138\n",
      "step: 200/5000 loss: 0.082\n",
      "step: 300/5000 loss: 0.073\n",
      "step: 400/5000 loss: 0.064\n",
      "step: 500/5000 loss: 0.079\n",
      "step: 600/5000 loss: 0.056\n",
      "step: 700/5000 loss: 0.058\n",
      "step: 800/5000 loss: 0.046\n",
      "step: 900/5000 loss: 0.053\n",
      "step: 1000/5000 loss: 0.043\n",
      "step: 1100/5000 loss: 0.033\n",
      "step: 1200/5000 loss: 0.047\n",
      "step: 1300/5000 loss: 0.030\n",
      "step: 1400/5000 loss: 0.046\n",
      "step: 1500/5000 loss: 0.033\n",
      "step: 1600/5000 loss: 0.029\n",
      "step: 1700/5000 loss: 0.035\n",
      "step: 1800/5000 loss: 0.035\n",
      "step: 1900/5000 loss: 0.047\n",
      "step: 2000/5000 loss: 0.035\n",
      "step: 2100/5000 loss: 0.019\n",
      "step: 2200/5000 loss: 0.023\n",
      "step: 2300/5000 loss: 0.043\n",
      "step: 2400/5000 loss: 0.032\n",
      "step: 2500/5000 loss: 0.026\n",
      "step: 2600/5000 loss: 0.036\n",
      "step: 2700/5000 loss: 0.024\n",
      "step: 2800/5000 loss: 0.036\n",
      "step: 2900/5000 loss: 0.023\n",
      "step: 3000/5000 loss: 0.014\n",
      "step: 3100/5000 loss: 0.022\n",
      "step: 3200/5000 loss: 0.017\n",
      "step: 3300/5000 loss: 0.022\n",
      "step: 3400/5000 loss: 0.025\n",
      "step: 3500/5000 loss: 0.017\n",
      "step: 3600/5000 loss: 0.017\n",
      "step: 3700/5000 loss: 0.018\n",
      "step: 3800/5000 loss: 0.019\n",
      "step: 3900/5000 loss: 0.016\n",
      "step: 4000/5000 loss: 0.011\n",
      "step: 4100/5000 loss: 0.025\n",
      "step: 4200/5000 loss: 0.027\n",
      "step: 4300/5000 loss: 0.031\n",
      "step: 4400/5000 loss: 0.017\n",
      "step: 4500/5000 loss: 0.021\n",
      "step: 4600/5000 loss: 0.015\n",
      "step: 4700/5000 loss: 0.032\n",
      "step: 4800/5000 loss: 0.021\n",
      "step: 4900/5000 loss: 0.021\n"
     ]
    }
   ],
   "source": [
    "# Run training loop.\n",
    "step = 0\n",
    "done = False\n",
    "while not done:\n",
    "    for batch in dataloader:\n",
    "        batch = {k: v.to(device, non_blocking=True) for k, v in batch.items()}\n",
    "        output_dict = policy.forward(batch)\n",
    "        loss = output_dict[\"loss\"]\n",
    "        loss.backward()\n",
    "        optimizer.step()\n",
    "        optimizer.zero_grad()\n",
    "\n",
    "        if step % log_freq == 0:\n",
    "            print(f\"step: {step}/{training_steps} loss: {loss.item():.3f}\")\n",
    "        step += 1\n",
    "        if step >= training_steps:\n",
    "            done = True\n",
    "            print(\"\\nTraining complete.\")\n",
    "            break\n",
    "\n",
    "if step % (training_steps//10) == 0: \n",
    "    savepath=Path(ckpt_path) / f\"checkpoint_{step}.pt\"\n",
    "    policy.save_pretrained(savepath)\n"
   ]
  },
  {
   "cell_type": "code",
   "execution_count": 30,
   "metadata": {},
   "outputs": [
    {
     "data": {
      "text/plain": [
       "PosixPath('outputs/train/example_lift_diffusion/checkpoint_5000.pt')"
      ]
     },
     "execution_count": 30,
     "metadata": {},
     "output_type": "execute_result"
    }
   ],
   "source": [
    "savepath"
   ]
  },
  {
   "cell_type": "code",
   "execution_count": null,
   "metadata": {},
   "outputs": [],
   "source": [
    "# policy.save_pretrained(savepath)"
   ]
  },
  {
   "cell_type": "code",
   "execution_count": null,
   "metadata": {},
   "outputs": [],
   "source": []
  },
  {
   "cell_type": "code",
   "execution_count": null,
   "metadata": {},
   "outputs": [],
   "source": []
  },
  {
   "cell_type": "markdown",
   "metadata": {},
   "source": [
    "### offline evaluation"
   ]
  },
  {
   "cell_type": "code",
   "execution_count": 70,
   "metadata": {},
   "outputs": [
    {
     "data": {
      "text/plain": [
       "54"
      ]
     },
     "execution_count": 70,
     "metadata": {},
     "output_type": "execute_result"
    }
   ],
   "source": [
    "demo_id=0\n",
    "rows=[]\n",
    "for i in range(len(dataset)):\n",
    "    row=dataset[i]\n",
    "    if row['episode_index'].numpy()!=demo_id:\n",
    "        break \n",
    "    rows.append(row)\n",
    "\n",
    "for i in range(len(rows)):\n",
    "    assert i==rows[i]['frame_index'].numpy()\n",
    "\n",
    "len(rows)"
   ]
  },
  {
   "cell_type": "code",
   "execution_count": 80,
   "metadata": {},
   "outputs": [
    {
     "data": {
      "text/plain": [
       "(54, 7)"
      ]
     },
     "execution_count": 80,
     "metadata": {},
     "output_type": "execute_result"
    }
   ],
   "source": [
    "actions_org=[]\n",
    "for row in rows:\n",
    "    actions_org.append(row['action'][0].numpy())\n",
    "\n",
    "actions_org=np.array(actions_org)\n",
    "actions_org.shape"
   ]
  },
  {
   "cell_type": "code",
   "execution_count": null,
   "metadata": {},
   "outputs": [],
   "source": []
  },
  {
   "cell_type": "code",
   "execution_count": 76,
   "metadata": {},
   "outputs": [],
   "source": [
    "action_pred=[]\n",
    "for row in rows:\n",
    "    input_batch = {k: v.to(device) for k, v in row.items() if k in input_shapes} \n",
    "    output_dict = policy.select_action(input_batch)\n",
    "    action_pred.append(output_dict[0].cpu().numpy())"
   ]
  },
  {
   "cell_type": "code",
   "execution_count": 81,
   "metadata": {},
   "outputs": [
    {
     "data": {
      "text/plain": [
       "(54, 7)"
      ]
     },
     "execution_count": 81,
     "metadata": {},
     "output_type": "execute_result"
    }
   ],
   "source": [
    "action_pred=np.array(action_pred)\n",
    "action_pred.shape"
   ]
  },
  {
   "cell_type": "code",
   "execution_count": null,
   "metadata": {},
   "outputs": [],
   "source": []
  },
  {
   "cell_type": "code",
   "execution_count": 91,
   "metadata": {},
   "outputs": [
    {
     "data": {
      "text/plain": [
       "<matplotlib.legend.Legend at 0x7f5b05333970>"
      ]
     },
     "execution_count": 91,
     "metadata": {},
     "output_type": "execute_result"
    },
    {
     "data": {
      "image/png": "[encoded data removed]",
      "text/plain": [
       "<Figure size 640x480 with 1 Axes>"
      ]
     },
     "metadata": {},
     "output_type": "display_data"
    }
   ],
   "source": [
    "plt.plot(actions_org[:, 0], label=\"action_org\")\n",
    "plt.plot(action_pred[:, 0], label=\"action_pred\")\n",
    "plt.legend()"
   ]
  },
  {
   "cell_type": "code",
   "execution_count": 90,
   "metadata": {},
   "outputs": [
    {
     "data": {
      "text/plain": [
       "<matplotlib.legend.Legend at 0x7f5b0c182fb0>"
      ]
     },
     "execution_count": 90,
     "metadata": {},
     "output_type": "execute_result"
    },
    {
     "data": {
      "image/png": "[encoded data removed]",
      "text/plain": [
       "<Figure size 640x480 with 1 Axes>"
      ]
     },
     "metadata": {},
     "output_type": "display_data"
    }
   ],
   "source": [
    "plt.plot(actions_org[:, 1], label=\"action_org\")\n",
    "plt.plot(action_pred[:, 1], label=\"action_pred\")\n",
    "plt.legend()"
   ]
  },
  {
   "cell_type": "code",
   "execution_count": 89,
   "metadata": {},
   "outputs": [
    {
     "data": {
      "text/plain": [
       "<matplotlib.legend.Legend at 0x7f5b0c2df880>"
      ]
     },
     "execution_count": 89,
     "metadata": {},
     "output_type": "execute_result"
    },
    {
     "data": {
      "image/png": "[encoded data removed]",
      "text/plain": [
       "<Figure size 640x480 with 1 Axes>"
      ]
     },
     "metadata": {},
     "output_type": "display_data"
    }
   ],
   "source": [
    "plt.plot(actions_org[:, 2], label=\"action_org\")\n",
    "plt.plot(action_pred[:, 2], label=\"action_pred\")\n",
    "plt.legend()"
   ]
  },
  {
   "cell_type": "code",
   "execution_count": null,
   "metadata": {},
   "outputs": [],
   "source": []
  },
  {
   "cell_type": "code",
   "execution_count": null,
   "metadata": {},
   "outputs": [],
   "source": []
  },
  {
   "cell_type": "code",
   "execution_count": null,
   "metadata": {},
   "outputs": [],
   "source": []
  },
  {
   "cell_type": "code",
   "execution_count": null,
   "metadata": {},
   "outputs": [],
   "source": []
  },
  {
   "cell_type": "code",
   "execution_count": null,
   "metadata": {},
   "outputs": [],
   "source": []
  },
  {
   "cell_type": "code",
   "execution_count": null,
   "metadata": {},
   "outputs": [],
   "source": []
  },
  {
   "cell_type": "code",
   "execution_count": null,
   "metadata": {},
   "outputs": [],
   "source": []
  },
  {
   "cell_type": "code",
   "execution_count": null,
   "metadata": {},
   "outputs": [],
   "source": []
  }
 ],
 "metadata": {
  "kernelspec": {
   "display_name": "Python 3",
   "language": "python",
   "name": "python3"
  },
  "language_info": {
   "codemirror_mode": {
    "name": "ipython",
    "version": 3
   },
   "file_extension": ".py",
   "mimetype": "text/x-python",
   "name": "python",
   "nbconvert_exporter": "python",
   "pygments_lexer": "ipython3",
   "version": "3.10.15"
  }
 },
 "nbformat": 4,
 "nbformat_minor": 2
}
